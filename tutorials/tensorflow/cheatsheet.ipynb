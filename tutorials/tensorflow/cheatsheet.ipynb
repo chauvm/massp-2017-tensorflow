{
 "cells": [
  {
   "cell_type": "markdown",
   "metadata": {},
   "source": [
    "# Github, TensorFlow, Numpy cheatsheet\n",
    "## MaSSP 2017, Computer Science"
   ]
  },
  {
   "cell_type": "markdown",
   "metadata": {},
   "source": [
    "__Chuẩn bị: Xếp Châu__\n",
    "\n",
    "Github: Dựa theo https://services.github.com/on-demand/downloads/github-git-cheat-sheet.pdf.\n",
    "\n",
    "Tensorflow: Dựa theo https://secretdatascientist.com/tensor-flow-cheat-sheet/ và thư viện Numpy."
   ]
  },
  {
   "cell_type": "markdown",
   "metadata": {},
   "source": [
    "Sau đây là một số hàm cần thiết trong chương trình MaSSP Tin học.\n",
    "* [Các lệnh cơ bản trong Github](#Các-lệnh-cơ-bản-trong-Github)\n",
    "* [Các thao tác tính toán trên TensorFlow và Numpy](#Các-thao-tác-tính-toán-trên-TensorFlow-và-Numpy)\n",
    "* [Các thao tác trên TensorFlow](#Các-thao-tác-trên-TensorFlow)"
   ]
  },
  {
   "cell_type": "markdown",
   "metadata": {},
   "source": [
    "# Các lệnh cơ bản trong Github\n",
    "\n",
    "| Lệnh                             | Ý nghĩa                                |\n",
    "|:---------------------------------|:---------------------------------------|\n",
    "| __Configure__| Config username, email cho máy, tránh phải nhập mỗi lần commit |\n",
    "| git config --global user.name \"[name]\" | Đặt tên người dùng mỗi lần commit |\n",
    "| git config --global user.email \"[email address]\" | Đặt email gán với mỗi lần commit |\n",
    "| __Tạo repo__ | |\n",
    "| git init [project-name] | Tạo repo dự án mới |\n",
    "| git clone [url] | Tải một repo xuống, url có dạng github.com/[author]/[project-name.git], ví dụ https://github.com/masspvn/pre-program-package.git. Ngoài ra cũng có thể tải repo xuống dưới dạng zip. |\n",
    "| __Thay đổi repo__ | |\n",
    "| git status | List ra toàn bộ các file mới hoặc bị thay đổi |\n",
    "| git add file1 file2 | file1 và file2 là 2 files mới hoặc mới bị thay đổi, dùng lệnh này để git biết sẽ \"version control\" những file này |\n",
    "| git add /path/to/\\* | version control tất cả các file trong thư mục /path/to/ |\n",
    "| git commit -m \"Some meaningful message about this commit\" | Lưu lại các file được version control. Chú ý commit message cần ngắn gọn, dễ hiểu, tóm tắt lại những thay đổi của version này so với version trước |\n",
    "| __Sync__ | |\n",
    "| git pull | Tải về những thay đổi mới những người khác đã commit vào repo |\n",
    "| git push origin master| Đưa thay đổi của những local commit lên repo trên Github - khi người khác dùng lệnh git pull ở trên, họ sẽ thấy những thay đổi này. \"master\" là tên nhánh chính của repo. Trong chương trình MaSSP các bạn chỉ cần dùng nhánh chính này. Nếu có thắc mắc về cách dùng nhánh phụ, hãy hỏi các mentor!|"
   ]
  },
  {
   "cell_type": "code",
   "execution_count": 1,
   "metadata": {
    "collapsed": true
   },
   "outputs": [],
   "source": [
    "import tensorflow as tf\n",
    "import numpy as np"
   ]
  },
  {
   "cell_type": "code",
   "execution_count": 2,
   "metadata": {
    "collapsed": true
   },
   "outputs": [],
   "source": [
    "sess = tf.Session()"
   ]
  },
  {
   "cell_type": "code",
   "execution_count": 5,
   "metadata": {
    "collapsed": false
   },
   "outputs": [
    {
     "data": {
      "text/plain": [
       "array([[ 16.,  16.,  16.],\n",
       "       [ 16.,  16.,  16.]], dtype=float32)"
      ]
     },
     "execution_count": 5,
     "metadata": {},
     "output_type": "execute_result"
    }
   ],
   "source": [
    "sess.run(tf.square(tf.ones((2,3)) * 4))"
   ]
  },
  {
   "cell_type": "markdown",
   "metadata": {},
   "source": [
    "# Các thao tác tính toán trên TensorFlow và Numpy\n",
    "| TensorFlow                   | Numpy                        | Ý nghĩa                                                |\n",
    "|:----------------------------:|:----------------------------:|:-------------------------------------------------------|\n",
    "| __Khởi tạo ma trận__ | ||\n",
    "| tf.ones((2, 3))              | np.ones((2, 3))              | tạo ma trận 2x3, mỗi phần tử có giá trị 1. (float)     |\n",
    "| tf.zeros((2, 3))             | np.zeros((2, 3))             | tạo ma trận 2x3, mỗi phần tử có giá trị 0. (float)     |\n",
    "| __Các thao tác tính toán với một biến__|||\n",
    "|tf.square(x) | np.square(x) | Bình phương x element-wise |\n",
    "|tf.sqrt(x) | np.sqrt(x) | Căn bậc 2 của x element-wise |\n",
    "|tf.abs(x)    | np.abs(x) | Trị tuyệt đối của x element-wise |\n",
    "|tf.round(x)    | np.round(x) | Làm tròn đến giá trị nguyên gần nhất element-wise (1.5 sẽ làm tròn lên thành 2) |\n",
    "|tf.pow(x, y)    | np.power(x, y) | Lũy thừa x^y element-wise |\n",
    "|tf.exp(x)    | np.exp(x) | Lũy thừa e^x element-wise |\n",
    "|tf.log(x)    | np.log(x) | Log của x element-wise, tf.log(0) trả -inf |\n",
    "|tf.reduce_mean(x, axis=k) | np.mean(x, axis=k) | Trả trung bình cộng theo chiều kth của x. Nếu không cho k, trả về một số thực là trung bình cộng của tất cả phần tử trong x |\n",
    "|tf.transpose(x, axes=new_axes)    | np.transpose(x, axes=new_axes) | Transpose ma trận x theo hoán vị các chiều mới new_axes, ví dụ (2, 1, 0) cho ma trận 3 chiều x |\n",
    "| __Các thao tác tính toán với hai biến__|||\n",
    "|tf.add(x, y) | np.add(x, y) hay (x + y) | Cộng 2 ma trận. Nếu một trong 2 biến là số thực, cộng từng phần tử của ma trận với số thực đó |\n",
    "|tf.subtract(x, y) | np.subtract(x, y) hay (x - y) | Trừ 2 ma trận |\n",
    "|tf.multiply(x, y) | np.multiply(x, y) hay (x * y) | Nhân 2 ma trận element-wise |\n",
    "|tf.div(x, y) | np.divide(x, y) hay (x / y) | Chia 2 ma trận element-wise |\n",
    "|tf.matmul(x, y) | np.matmul(x, y) | Nhân 2 ma trận, số cột của x phải bằng số hàng của y |\n",
    "|tf.maximum(x, y) | np.maximum(x, y) | x, y là 2 ma trận cùng kích thước. Trả về 1 ma trận, mỗi phần tử là giá trị lớn hơn khi so sánh x, y |\n",
    "|tf.minimum(x, y) | np.minimum(x, y) | x, y là 2 ma trận cùng kích thước. Trả về 1 ma trận, mỗi phần tử là giá trị nhỏ hơn khi so sánh x, y |\n",
    "|tf.equal(x, y) | np.equal(x, y) hay (x == y) | Trả True hoặc False cho x == y element-wise |\n",
    "|tf.not_equal(x, y) | np.not_equal(x, y) hay (x != y) | Trả True hoặc False cho x != y element-wise |"
   ]
  },
  {
   "cell_type": "markdown",
   "metadata": {},
   "source": [
    "# Các thao tác trên TensorFlow\n",
    "\n",
    "| <h3>TensorFlow</h3>                    | <h3>Ý nghĩa</h3>      |\n",
    "|:----------------------------:|:------------------------------------------------------|\n",
    "| __Làm việc với session__ | |\n",
    "| sess = tf.Session()| tạo session |\n",
    "| sess.run(op1])| chạy một operation|\n",
    "| sess.run([op1, op2])| chạy một list những operation|\n",
    "| sess.close()| đóng session|\n",
    "| saver=tf.train.Saver()| lưu và load biến|\n",
    "| saver.save(sess,’file_name’)| lưu session vào file 'file_name'|\n",
    "| saver.restore(sess,’file_name’)\t| khôi phục lại session từ 'file_name'|\n",
    "| __Khởi tạo biến__ | |\n",
    "| tf.Variable(tf.zeros([50]), name=’x’) | tạo biến là vector với 50 giá trị 0., tên biến là \"x\"   |\n",
    "| tf.Variable(tf.random_normal([3, 4], stddev=0.1)| tạo ma trận 3x4, mỗi phần tử được lấy từ một Gaussian distribution có mean tại 0 và standard deviation 0.1|\n",
    "| tf.constant(tf.ones((2, 3))) | tạo một ma trận ones(2, 3) có giá trị không thay đổi trong session |\n",
    "| tf.global_variables_initializer()| init các biến global|\n",
    "| __Neural Network__ ||\n",
    "| tf.nn.relu(x) | rectified linear activation function, với mỗi phần tử $t$, trả $max(0, t)$ |\n",
    "| tf.nn.softmax(x) | softmax activation function |\n",
    "| tf.nn.sigmoid(x) |sigmoid activation function|\n",
    "| tf.nn.tanh(x)| hyperbolic tangent activation function\n",
    "| tf.nn.softmax_cross_entropy_with_logits() |\tsoftmax cross entropy\n",
    "| __Convolutional Neural Network__ ||\n",
    "| tf.nn.conv2d(input, filter, strides, padding) | Convolve input sử dụng filter, và strides là một list gồm 4 phần tử, ví dụ strides=[1, 1, 1, 1], mỗi phần tử thể hiện bước nhảy của filter. padding = 'SAME' hoặc 'VALID' |\n",
    "| tf.nn.max_pool(value, ksize, strides, padding)| Áp dụng max pooling lên value, với sliding window có kích thước ksize, và bước nhảy của sliding window là strides. padding = 'SAME' hoặc 'VALID' |\n",
    "| tf.nn.dropout(x, keep_prob)| Giả sử keep_prob = 0.1, 90% số phần tử trong x sẽ trở thành 0, và 10% phần tử còn lại sẽ nhân với 1/keep_prob (10 lần) |"
   ]
  },
  {
   "cell_type": "code",
   "execution_count": null,
   "metadata": {
    "collapsed": true
   },
   "outputs": [],
   "source": []
  }
 ],
 "metadata": {
  "kernelspec": {
   "display_name": "Python 3",
   "language": "python",
   "name": "python3"
  },
  "language_info": {
   "codemirror_mode": {
    "name": "ipython",
    "version": 3
   },
   "file_extension": ".py",
   "mimetype": "text/x-python",
   "name": "python",
   "nbconvert_exporter": "python",
   "pygments_lexer": "ipython3",
   "version": "3.5.2"
  }
 },
 "nbformat": 4,
 "nbformat_minor": 2
}
