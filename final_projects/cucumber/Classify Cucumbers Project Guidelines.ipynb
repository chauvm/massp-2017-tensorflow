{
 "cells": [
  {
   "cell_type": "markdown",
   "metadata": {},
   "source": [
    "# Dự án phân loại dưa chuột"
   ]
  },
  {
   "cell_type": "markdown",
   "metadata": {},
   "source": [
    "## 1. Khái quát\n",
    "\n",
    "Trong dự án phân loại dưa chuột, các bạn hãy sử dụng CNN để phân loại đúng hình ảnh của 9 loại dưa chuột trong dataset của Prototype 1 tại đây: https://github.com/workpiles/CUCUMBER-9.\n",
    "\n",
    "Trong quá trình training, hãy nhớ ghi lại các thông số trong CNN của nhóm để hoàn thành bản báo cáo và cố gắng giải thích tại sao sự điểu chỉnh lại làm kết quả phân loại tốt hay kém đi.\n",
    "\n",
    "Nếu đã hài lòng với kết quả phân loại cho Prototype 1, hãy hoàn thành bài thuyết trình và bản báo cáo cho Prototype 1, và thử sức với Prototype 2!"
   ]
  },
  {
   "cell_type": "markdown",
   "metadata": {},
   "source": [
    "## 2. Dataset\n",
    "(Tham khảo cách plot hình ảnh của prototype 1 tại Cucumber-plot_prototype_1.ipynb. Một phần nhỏ của dataset này được chứa ở cucumber_data/p1)\n",
    "Hình ảnh của 9 loại dưa chuột được một nông dân người Nhật Bản thu thập trong quá trình sử dụng TensorFlow để phân loại những quả dưa chuột trong trang trại. Xem thêm chi tiết tại đây: https://cloud.google.com/blog/big-data/2016/08/how-a-japanese-cucumber-farmer-is-using-deep-learning-and-tensorflow.\n",
    "\n",
    "### 2.1 Prototype 1\n",
    "Trong Prototype 1, có <b>2970</b> hỉnh ảnh dưa chuột được chụp từ trên xuống như sau:\n",
    "\n",
    "<img src=\"https://camo.githubusercontent.com/5fa0fe56ab32201557579e855b7b74cd06c1cc8a/687474703a2f2f776f726b70696c65732e636f6d2f776f726470726573732f77702d636f6e74656e742f75706c6f6164732f323031362f30362f636362395f70726f746f312d323033783330302e6a7067\"/>\n",
    "\n",
    "Có tất cả 9 loại dưa chuột được gán nhãn \"2L\", \"L\", \"M\", \"S\", \"2S\", \"BL\", \"BM\", \"LS\", \"C\". Trong hình ảnh mẫu này, đi kèm mỗi loại là hỉnh ảnh của 10 quả dưa chuột.\n",
    "\n",
    "<img src=\"https://camo.githubusercontent.com/ceb6b16ab4e5656180804abac2c5e25cd89eeeb7/687474703a2f2f776f726b70696c65732e636f6d2f776f726470726573732f77702d636f6e74656e742f75706c6f6164732f323031362f30322f637563756d6265725f636c617373696669636174696f6e2e6a7067\" />\n",
    "\n",
    "\n",
    "Mỗi hình ảnh dưa chuột có kích thước 32x32x3, theo thang màu RBG. Dữ liệu theo từng channel sẽ được lưu lại, nghĩa là mỗi hình ảnh sẽ bao gồm 3 array tương ứng với 3 channel, và mỗi array có chiều 1024 (32x32). Mentor của nhóm sẽ hướng dẫn plot hỉnh ảnh đầu tiên trong Prototype 1 sử dụng matplotlib.\n",
    "\n",
    "Sau khi tải dữ liệu về, các bạn sẽ thấy dữ liệu đã được chia sẵn thành 5 nhóm nhỏ từ data_batch_1 đến data_batch_5. Ngoài ra test set dùng để kiểm tra kết quả phân loại nằm ở test_batch. Hãy dùng numpy và matplotlib để biết về số lượng ảnh trong mỗi nhóm. Lưu ý các bạn có thể phải thay đổi batch_size cho phù hợp với model, cách chia 5 nhóm data_batch_1 đến data_batch_5 có thể chưa phải là tối ưu cho model của các bạn.\n",
    "\n",
    "Sau đây là một ví dụ cách plot một hình ảnh trong dataset này:"
   ]
  },
  {
   "cell_type": "code",
   "execution_count": 1,
   "metadata": {
    "collapsed": false
   },
   "outputs": [
    {
     "data": {
      "image/png": "[encoded data removed]",
      "text/plain": [
       "<matplotlib.figure.Figure at 0x22e61e16f98>"
      ]
     },
     "metadata": {},
     "output_type": "display_data"
    }
   ],
   "source": [
    "import _pickle as cPickle\n",
    "import numpy as np\n",
    "import matplotlib.pyplot as plt\n",
    "def unpickle(filename):\n",
    "    fo = open(filename, 'rb')\n",
    "    fdict = cPickle.load(fo, encoding='latin1')\n",
    "    fo.close()\n",
    "    return fdict\n",
    "data = unpickle('cucumber_data/p1/data_batch_1')\n",
    "first_image = np.zeros((32, 32, 3))\n",
    "first_image[:, :, 0] = data['data'][0].reshape((32, 32))\n",
    "first_image[:, :, 1] = data['data'][1].reshape((32, 32))\n",
    "first_image[:, :, 2] = data['data'][2].reshape((32, 32))\n",
    "plt.imshow(first_image/255)\n",
    "plt.show()"
   ]
  },
  {
   "cell_type": "markdown",
   "metadata": {},
   "source": [
    "### 2.2 Prototype 2\n",
    "Prototype có <b>8400</b> hình ảnh của <b>10</b> loại dưa chuột, và mỗi quả dưa chuột được chụp từ 3 góc độ: trên, dưới, và cạnh (tức là 1 đầu của dưa chuột).\n",
    "\n",
    "<img src=\"https://camo.githubusercontent.com/11757cb8fe18984c9255a8b33b99824623831515/687474703a2f2f776f726b70696c65732e636f6d2f776f726470726573732f77702d636f6e74656e742f75706c6f6164732f323031362f30382f636362395f70726f746f325f696d616765732e6a7067\"/>\n",
    "\n",
    "Mỗi góc độ đều là ảnh RBG, do vậy để plot được cả 3 hình ảnh của 1 quả dưa chuột, ta cần dùng 9 array tương ứng với 3 góc độ x 3 channel/góc độ. Nếu gặp khó khăn trong quá trình plot, hãy hỏi mentor của nhóm. Hãy nhớ các bạn phải hoàn thành bài thuyết trình cho Prototype 1 trước khi thử sức với Prototype 2!"
   ]
  }
 ],
 "metadata": {
  "kernelspec": {
   "display_name": "Python 3",
   "language": "python",
   "name": "python3"
  },
  "language_info": {
   "codemirror_mode": {
    "name": "ipython",
    "version": 3
   },
   "file_extension": ".py",
   "mimetype": "text/x-python",
   "name": "python",
   "nbconvert_exporter": "python",
   "pygments_lexer": "ipython3",
   "version": "3.6.0"
  }
 },
 "nbformat": 4,
 "nbformat_minor": 2
}
